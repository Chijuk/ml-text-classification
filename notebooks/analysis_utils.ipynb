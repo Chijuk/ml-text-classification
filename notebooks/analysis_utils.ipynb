{
 "cells": [
  {
   "cell_type": "code",
   "execution_count": 2,
   "metadata": {
    "collapsed": true
   },
   "outputs": [
    {
     "name": "stdout",
     "output_type": "stream",
     "text": [
      "Done!\n"
     ]
    }
   ],
   "source": [
    "\"\"\"\n",
    "Prepare custom stop words for flashtext\n",
    "Read file and add \"=>_EMPTY_\" to the end of each line\n",
    "\"\"\"\n",
    "\n",
    "import pandas as pd\n",
    "\n",
    "LOAD_PATH = 'D:\\DEV\\Python projects\\machine-learning\\experiments\\pilot\\data\\positions.txt'\n",
    "SAVE_PATH = 'D:\\DEV\\Python projects\\machine-learning\\experiments\\pilot\\stop_words\\positions_dict.txt'\n",
    "\n",
    "print(\"===============PREPARE CUSTOM STOP WORDS FOR FLASHTEXT===============\")\n",
    "\n",
    "sw_data = pd.read_csv(LOAD_PATH, header=None, names=['stop_words'], sep=\"\\t\")\n",
    "sw_data['stop_words'] = sw_data['stop_words'].map(lambda line: line + \"=>_EMPTY_\")  # prepare for flashtext\n",
    "sw_data.to_csv(SAVE_PATH, header=None, index=None)\n",
    "print(\"Done!\")"
   ]
  },
  {
   "cell_type": "code",
   "execution_count": 28,
   "outputs": [
    {
     "name": "stdout",
     "output_type": "stream",
     "text": [
      "DATASET COLUMNS: \n",
      "row               int64\n",
      "item_id           int64\n",
      "service_id      float64\n",
      "service_name     object\n",
      "class_id        float64\n",
      "class_name       object\n",
      "text             object\n",
      "info             object\n",
      "source           object\n",
      "dtype: object\n",
      "\n",
      "DATASET SIZE: 9000\n",
      "\n",
      "===============CLASSES COUNT (SORT)===============\n",
      "    class_id                                         class_name  count\n",
      "19  945291.0               Заміна картриджа друкуючого пристрою   3130\n",
      "24  966043.0                     Консультація щодо роботи CORP2   1671\n",
      "7   945240.0                  Налаштування пошти Outlook  на ПК   1013\n",
      "9   945246.0               Помилка в роботі корпоративної пошти    831\n",
      "0   945210.0  Втрата працездатності комп'ютерної техніки або...    485\n",
      "11  945252.0        Консультація щодо корпоративної пошти Банку    465\n",
      "3   945217.0        Налаштування особистого профілю користувача    307\n",
      "10  945249.0          Налаштування пошти на мобільному пристрої    256\n",
      "6   945225.0         Підключення наявних периферійних пристроїв    210\n",
      "20  945294.0  Несправність принтеру, багатофункціонального п...    210\n",
      "13  945261.0       Зміни\\Доопрацювання Корпоративна пошта Банку     95\n",
      "15  945276.0  Завантаження відеофайлів, формування списку ві...     72\n",
      "4   945219.0                   Переміщення комп'ютерної техніки     62\n",
      "2   945215.0  Заміна або встановлення додаткової  комп'ютерн...     61\n",
      "1   945213.0  Встановлення та налаштування комп'ютерної техн...     59\n",
      "5   945222.0     Підключення ноутбуків в конференц-залі (к.606)     14\n",
      "14  945264.0                        Створення поштової скриньки     13\n",
      "8   945243.0                             Не відкриваються листи     12\n",
      "12  945255.0                Збільшення об'єму поштової скриньки     11\n",
      "22  945303.0  Заміна або встановлення додаткових друкуючих п...      7\n",
      "21  945297.0                            Консультація щодо друку      6\n",
      "23  945306.0                    Переміщення друкуючих пристроїв      4\n",
      "16  945282.0     Помилки у відтворенні відеоконтенту в Ощадкафе      2\n",
      "18  945288.0       Зміни/Доопрацювання відеоконтенту в Ощадкафе      2\n",
      "17  945285.0  Консультація щодо відтворення відеоконтенту в ...      1\n"
     ]
    }
   ],
   "source": [
    "\"\"\"\n",
    "Dataset analyzers:\n",
    "- unique classes count\n",
    "\"\"\"\n",
    "\n",
    "import pandas as pd\n",
    "\n",
    "CSV_PATH = 'D:\\DEV\\Projects\\Python projects\\machine-learning\\experiments\\prod\\data\\\\test.csv'\n",
    "\n",
    "data = pd.read_csv(CSV_PATH, delimiter=\",\", encoding=\"utf-8\")\n",
    "\n",
    "print(f'DATASET COLUMNS: \\n{data.dtypes}')\n",
    "print(f'\\nDATASET SIZE: {data.shape[0]}')\n",
    "\n",
    "print(\"\\n===============CLASSES COUNT (SORT)===============\")\n",
    "print(data.groupby(['class_id', 'class_name'])['class_name'].count().reset_index(name='count').sort_values(['count'], ascending=False))"
   ],
   "metadata": {
    "collapsed": false,
    "pycharm": {
     "name": "#%%\n"
    }
   }
  },
  {
   "cell_type": "code",
   "execution_count": 39,
   "outputs": [
    {
     "name": "stdout",
     "output_type": "stream",
     "text": [
      "MIN WORDS COUNT: 0\n",
      "MAX WORDS COUNT: 34\n",
      "MEAN WORDS COUNT: 7.123111111111111\n",
      "\n",
      "===============WORDS COUNT (SORT)===============\n",
      "    words_count  count\n",
      "5             5   2239\n",
      "7             7    964\n",
      "2             2    856\n",
      "3             3    669\n",
      "6             6    591\n",
      "4             4    582\n",
      "8             8    429\n",
      "9             9    422\n",
      "10           10    323\n",
      "11           11    250\n",
      "1             1    229\n",
      "12           12    206\n",
      "13           13    166\n",
      "14           14    163\n",
      "15           15    133\n",
      "16           16    113\n",
      "17           17     98\n",
      "18           18     87\n",
      "0             0     82\n",
      "19           19     64\n",
      "20           20     60\n",
      "21           21     54\n",
      "22           22     36\n",
      "24           24     34\n",
      "23           23     26\n",
      "25           25     26\n",
      "26           26     23\n",
      "27           27     18\n",
      "28           28     17\n",
      "29           29     12\n",
      "31           31     12\n",
      "30           30      8\n",
      "32           32      5\n",
      "33           33      2\n",
      "34           34      1\n"
     ]
    }
   ],
   "source": [
    "\"\"\"\n",
    "Text analyzers:\n",
    "- unique tokens count\n",
    "- length of the shortest sentence\n",
    "- length of the longest sentence\n",
    "- mean sentence length\n",
    "\"\"\"\n",
    "\n",
    "import pandas as pd\n",
    "from trainer.train import create_dictionary\n",
    "from tensorflow.keras.preprocessing.text import text_to_word_sequence\n",
    "from utils.text_utils import TOKEN_FILTER\n",
    "\n",
    "CSV_PATH = 'D:\\DEV\\Projects\\Python projects\\machine-learning\\experiments\\prod\\data\\\\test.csv'\n",
    "\n",
    "data = pd.read_csv(CSV_PATH, delimiter=\",\", encoding=\"utf-8\")\n",
    "\n",
    "tokenizer = create_dictionary(data['text'].values, 0)\n",
    "print(f'FOUND {len(tokenizer.word_index) + 1} UNIQUE TOKENS')\n",
    "\n",
    "data['words_count'] = data['text'].apply(text_to_word_sequence, filters=TOKEN_FILTER).str.len()\n",
    "print(f'MIN WORDS COUNT: {data[\"words_count\"].min()}')\n",
    "print(f'MAX WORDS COUNT: {data[\"words_count\"].max()}')\n",
    "print(f'MEAN WORDS COUNT: {data[\"words_count\"].mean()}')\n",
    "print(\"\\n===============WORDS COUNT (SORT)===============\")\n",
    "print(data.groupby(['words_count'])['words_count'].count().reset_index(name='count').sort_values(['count'], ascending=False))\n"
   ],
   "metadata": {
    "collapsed": false,
    "pycharm": {
     "name": "#%%\n"
    }
   }
  }
 ],
 "metadata": {
  "kernelspec": {
   "display_name": "Python 3",
   "language": "python",
   "name": "python3"
  },
  "language_info": {
   "codemirror_mode": {
    "name": "ipython",
    "version": 2
   },
   "file_extension": ".py",
   "mimetype": "text/x-python",
   "name": "python",
   "nbconvert_exporter": "python",
   "pygments_lexer": "ipython2",
   "version": "2.7.6"
  }
 },
 "nbformat": 4,
 "nbformat_minor": 0
}