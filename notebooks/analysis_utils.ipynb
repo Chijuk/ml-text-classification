{
 "cells": [
  {
   "cell_type": "code",
   "execution_count": 2,
   "metadata": {
    "collapsed": true
   },
   "outputs": [
    {
     "name": "stdout",
     "output_type": "stream",
     "text": [
      "Done!\n"
     ]
    }
   ],
   "source": [
    "\"\"\"\n",
    "Prepare custom stop words for flashtext\n",
    "Read file and add \"=>_EMPTY_\" to the end of each line\n",
    "\"\"\"\n",
    "\n",
    "import pandas as pd\n",
    "\n",
    "LOAD_PATH = 'D:\\DEV\\Python projects\\machine-learning\\experiments\\oschad_pilot\\data\\positions.txt'\n",
    "SAVE_PATH = 'D:\\DEV\\Python projects\\machine-learning\\experiments\\oschad_pilot\\stop_words\\positions_dict.txt'\n",
    "\n",
    "print(\"===============Prepare custom stop words for flashtext===============\")\n",
    "\n",
    "sw_data = pd.read_csv(LOAD_PATH, header=None, names=['stop_words'], sep=\"\\t\")\n",
    "sw_data['stop_words'] = sw_data['stop_words'].map(lambda line: line + \"=>_EMPTY_\")  # prepare for flashtext\n",
    "sw_data.to_csv(SAVE_PATH, header=None, index=None)\n",
    "print(\"Done!\")"
   ]
  },
  {
   "cell_type": "code",
   "execution_count": null,
   "outputs": [],
   "source": [
    "\"\"\"\n",
    "Text analyzers:\n",
    "- vocabulary size\n",
    "- unique tokens count\n",
    "- length of the shortest sentence\n",
    "- length of the longest sentence\n",
    "\"\"\"\n",
    "\n",
    "import pandas as pd"
   ],
   "metadata": {
    "collapsed": false,
    "pycharm": {
     "name": "#%%\n"
    }
   }
  }
 ],
 "metadata": {
  "kernelspec": {
   "display_name": "Python 3",
   "language": "python",
   "name": "python3"
  },
  "language_info": {
   "codemirror_mode": {
    "name": "ipython",
    "version": 2
   },
   "file_extension": ".py",
   "mimetype": "text/x-python",
   "name": "python",
   "nbconvert_exporter": "python",
   "pygments_lexer": "ipython2",
   "version": "2.7.6"
  }
 },
 "nbformat": 4,
 "nbformat_minor": 0
}